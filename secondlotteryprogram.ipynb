{
  "nbformat": 4,
  "nbformat_minor": 0,
  "metadata": {
    "colab": {
      "name": "secondlotteryprogram.ipynb",
      "provenance": [],
      "collapsed_sections": [],
      "authorship_tag": "ABX9TyNXuRSvCURYVd/eFGSS3kK2",
      "include_colab_link": true
    },
    "kernelspec": {
      "name": "python3",
      "display_name": "Python 3"
    }
  },
  "cells": [
    {
      "cell_type": "markdown",
      "metadata": {
        "id": "view-in-github",
        "colab_type": "text"
      },
      "source": [
        "<a href=\"https://colab.research.google.com/github/JohnGabrielRodi/pick-6-generator/blob/main/secondlotteryprogram.ipynb\" target=\"_parent\"><img src=\"https://colab.research.google.com/assets/colab-badge.svg\" alt=\"Open In Colab\"/></a>"
      ]
    },
    {
      "cell_type": "code",
      "metadata": {
        "id": "B3NW0W2t1YP0"
      },
      "source": [
        "class Lottery:\r\n",
        "    import os\r\n",
        "    from os import urandom\r\n",
        "    \r\n",
        "    def __init__(self, result):\r\n",
        "        self.result = result\r\n",
        "    \r\n",
        "    def ran(self):\r\n",
        "        for x in range(100):\r\n",
        "            self.byte(self.urandom(1))\r\n",
        "    \r\n",
        "    def byte(self, foo):\r\n",
        "            ranger = int.from_bytes(foo, 'little')\r\n",
        "            return self.ranger(ranger)\r\n",
        "        \r\n",
        "    def ranger(self, ranger):\r\n",
        "        if ranger < 50:\r\n",
        "            self.result.append(ranger)\r\n",
        "        if len(self.result) == 6:\r\n",
        "            return self.final()\r\n",
        "        \r\n",
        "    def final(self):\r\n",
        "            print('final pick 6 result: ')\r\n",
        "            print(self.result)\r\n",
        "            raise StopIteration \r\n",
        "                  \r\n",
        "bar = Lottery([]) \r\n",
        "bar.ran()"
      ],
      "execution_count": null,
      "outputs": []
    }
  ]
}
