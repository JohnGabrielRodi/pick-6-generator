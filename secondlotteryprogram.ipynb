class Lotto(object):
  import random

  def __init__(self):
    self.empty = []

  def num(self):
    while len(self.empty) < 6:
      mock = self.random.randint(1, 49)
      return self.filt(mock)
    else:
      print(self.empty)

  def filt(self, mock):
    if mock not in self.empty:
      return self.lop(mock)
    else:
      return self.num()

  def lop(self, mock):
    self.empty.append(mock)
    return self.num()

obj = Lotto()
obj.num()
